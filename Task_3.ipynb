{
  "nbformat": 4,
  "nbformat_minor": 0,
  "metadata": {
    "kernelspec": {
      "display_name": "Python 3",
      "language": "python",
      "name": "python3"
    },
    "language_info": {
      "codemirror_mode": {
        "name": "ipython",
        "version": 3
      },
      "file_extension": ".py",
      "mimetype": "text/x-python",
      "name": "python",
      "nbconvert_exporter": "python",
      "pygments_lexer": "ipython3",
      "version": "3.6.0"
    },
    "colab": {
      "name": "Копия 2.3.ipynb",
      "provenance": [],
      "collapsed_sections": []
    }
  },
  "cells": [
    {
      "cell_type": "code",
      "metadata": {
        "colab": {
          "base_uri": "https://localhost:8080/"
        },
        "id": "YAJyrybSUjAB",
        "outputId": "2f7ffbaf-50ab-47e2-ea7e-5c483e0dca8a"
      },
      "source": [
        "import sympy\n",
        "import numpy as np\n",
        "from sympy import *\n",
        "\n",
        "print('Задание 3.')\n",
        "\n",
        "def fact(n):\n",
        "  \"\"\"Функция возвращает факториал заданного числа n\"\"\"\n",
        "  factorial = 1\n",
        "  while n > 1:\n",
        "    factorial *= n\n",
        "    n -= 1\n",
        "    return factorial\n",
        "\n",
        "n = int(input('Введите значение n: '))\n",
        "fact(n)\n",
        "# Результат вычислений функции записывается в переменную:\n",
        "f = fact(n)\n",
        "\n",
        "# И приводится в выражении последовательности:\n",
        "expr = n/(f**(1/n))\n",
        "# Затем вычисляется предел последовательности:\n",
        "limit_expr = sympy.limit(expr, n, oo)\n",
        "print('Предел последовательности:', '{:.7f}'.format(limit_expr))"
      ],
      "execution_count": 17,
      "outputs": [
        {
          "output_type": "stream",
          "text": [
            "Задание 3.\n",
            "Введите значение n: 3\n",
            "Предел последовательности: 2.0800838\n"
          ],
          "name": "stdout"
        }
      ]
    }
  ]
}